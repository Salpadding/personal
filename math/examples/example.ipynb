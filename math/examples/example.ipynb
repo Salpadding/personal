{
 "cells": [
  {
   "cell_type": "code",
   "execution_count": 20,
   "id": "c4920412-acea-4a41-99d3-523f9d6a953b",
   "metadata": {},
   "outputs": [
    {
     "data": {
      "text/latex": [
       "$\\displaystyle 1 - 3 T^{2}$"
      ],
      "text/plain": [
       "1 - 3*T**2"
      ]
     },
     "execution_count": 20,
     "metadata": {},
     "output_type": "execute_result"
    }
   ],
   "source": [
    "import sympy as sp\n",
    "import numpy as np\n",
    "\n",
    "T = sp.symbols('T', real=True)\n",
    "sp.simplify(sp.re((1+sp.I*T) ** 3))"
   ]
  },
  {
   "cell_type": "code",
   "execution_count": null,
   "id": "7f65045d-455e-4643-bea4-e30ff104282d",
   "metadata": {},
   "outputs": [],
   "source": []
  },
  {
   "cell_type": "code",
   "execution_count": null,
   "id": "1f9dfae5-b0d6-4329-aa2b-14dc4d958924",
   "metadata": {},
   "outputs": [],
   "source": []
  }
 ],
 "metadata": {
  "kernelspec": {
   "display_name": "Python 3 (ipykernel)",
   "language": "python",
   "name": "python3"
  },
  "language_info": {
   "codemirror_mode": {
    "name": "ipython",
    "version": 3
   },
   "file_extension": ".py",
   "mimetype": "text/x-python",
   "name": "python",
   "nbconvert_exporter": "python",
   "pygments_lexer": "ipython3",
   "version": "3.12.8"
  }
 },
 "nbformat": 4,
 "nbformat_minor": 5
}
